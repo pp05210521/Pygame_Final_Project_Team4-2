{
 "cells": [
  {
   "cell_type": "code",
   "execution_count": 1,
   "id": "63854e6a",
   "metadata": {},
   "outputs": [
    {
     "name": "stdout",
     "output_type": "stream",
     "text": [
      "pygame 2.0.1 (SDL 2.0.14, Python 3.8.8)\n",
      "Hello from the pygame community. https://www.pygame.org/contribute.html\n"
     ]
    }
   ],
   "source": [
    "from game.game import pre_game\n",
    "\n",
    "if __name__ == '__main__':\n",
    "    m = pre_game()\n",
    "    m.run()\n"
   ]
  },
  {
   "cell_type": "code",
   "execution_count": null,
   "id": "95e6e582-645e-4915-bb10-5ed8b8ecdd31",
   "metadata": {},
   "outputs": [],
   "source": []
  }
 ],
 "metadata": {
  "kernelspec": {
   "display_name": "Python 3",
   "language": "python",
   "name": "python3"
  },
  "language_info": {
   "codemirror_mode": {
    "name": "ipython",
    "version": 3
   },
   "file_extension": ".py",
   "mimetype": "text/x-python",
   "name": "python",
   "nbconvert_exporter": "python",
   "pygments_lexer": "ipython3",
   "version": "3.8.8"
  }
 },
 "nbformat": 4,
 "nbformat_minor": 5
}
